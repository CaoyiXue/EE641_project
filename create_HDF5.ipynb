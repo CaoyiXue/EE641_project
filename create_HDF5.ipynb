{
 "cells": [
  {
   "cell_type": "code",
   "execution_count": 7,
   "metadata": {},
   "outputs": [],
   "source": [
    "import h5py    \n",
    "import numpy as np\n",
    "import os\n",
    "from PIL import Image\n",
    "import glob\n",
    "import utils"
   ]
  },
  {
   "cell_type": "code",
   "execution_count": 12,
   "metadata": {},
   "outputs": [],
   "source": [
    "def create_hdf5data(root, hdf5_root, names, label2num):\n",
    "    folder_names = ['images', 'infection masks', 'lung masks']\n",
    "    if 'lung' in hdf5_root:\n",
    "        folder_names = ['images', 'lung masks']\n",
    "    with h5py.File(os.path.join(hdf5_root), 'w') as hf:\n",
    "        for name in names:\n",
    "            image_data, label_data = [], []\n",
    "            for label_name, num in label2num.items():\n",
    "                path_list = glob.glob(os.path.join(root, name, label_name,\n",
    "                                                folder_names[0], '*.png'))\n",
    "                for path in path_list:\n",
    "                    images = [np.asarray(Image.open(path))]\n",
    "                    for folder_name in folder_names[1:]:\n",
    "                        mask_path = path.split('/')\n",
    "                        mask_path[-2] = folder_name\n",
    "                        mask_path = os.path.join(*mask_path)\n",
    "                        # change mask 255 to 1\n",
    "                        mask = np.asarray(Image.open(mask_path))//255\n",
    "                        images.append(mask)\n",
    "                    image_data.append(images)\n",
    "                    label_data.append(num)\n",
    "\n",
    "            image_data = np.array(image_data)\n",
    "            label_data = np.array(label_data)\n",
    "            print(image_data.shape, label_data.shape)\n",
    "            hf.create_dataset(name.lower(), data=image_data)\n",
    "            hf.create_dataset(name.lower()+'_label', data=label_data)"
   ]
  },
  {
   "cell_type": "code",
   "execution_count": 65,
   "metadata": {},
   "outputs": [
    {
     "name": "stdout",
     "output_type": "stream",
     "text": [
      "(3728, 3, 256, 256) (3728,)\n",
      "(932, 3, 256, 256) (932,)\n",
      "(1166, 3, 256, 256) (1166,)\n",
      "(21715, 2, 256, 256) (21715,)\n",
      "(5417, 2, 256, 256) (5417,)\n",
      "(6788, 2, 256, 256) (6788,)\n"
     ]
    }
   ],
   "source": [
    "roots = [\"COVID-QU-Ex dataset/Infection Segmentation Data/Infection Segmentation Data/\",\n",
    "\"COVID-QU-Ex dataset/Lung Segmentation Data/Lung Segmentation Data\"]\n",
    "hdf5_roots = [\"HDF5Data/infect_data.hdf5\", \"HDF5Data/lung_data.hdf5\"]\n",
    "names = ['Train', 'Val', 'Test']\n",
    "label2num = {'COVID-19': 0, 'Non-COVID': 1, 'Normal': 2}\n",
    "for root, hdf5_root in zip(roots, hdf5_roots):\n",
    "    create_hdf5data(root, hdf5_root, names, label2num)"
   ]
  },
  {
   "cell_type": "code",
   "execution_count": 13,
   "metadata": {},
   "outputs": [
    {
     "name": "stdout",
     "output_type": "stream",
     "text": [
      "(30, 3, 256, 256) (30,)\n",
      "(12, 3, 256, 256) (12,)\n",
      "(6, 3, 256, 256) (6,)\n"
     ]
    }
   ],
   "source": [
    "# Small data\n",
    "root = \"HDF5SmallData/Infection Segmentation Data Transformed/\"\n",
    "hdf5_root = \"HDF5SmallData/small_infect_data.hdf5\"\n",
    "names = ['Train', 'Val', 'Test']\n",
    "label2num = {'COVID-19': 0, 'Non-COVID': 1, 'Normal': 2}\n",
    "create_hdf5data(root, hdf5_root, names, label2num)"
   ]
  },
  {
   "cell_type": "code",
   "execution_count": null,
   "metadata": {},
   "outputs": [],
   "source": [
    "import glob\n",
    "import os\n",
    "root = \"SmallData/Infection Segmentation Data Transformed\"\n",
    "for root1 in os.listdir(root):\n",
    "    root1 = os.path.join(root, root1)\n",
    "    if '.DS_Store' in str(root1):\n",
    "        os.remove(root1)   \n",
    "    for root2 in os.listdir(root1):\n",
    "        root2 = os.path.join(root1, root2)\n",
    "        if '.DS_Store' in str(root2):\n",
    "            os.remove(root2)   \n",
    "        for root3 in os.listdir(root2):\n",
    "            root3 = os.path.join(root2, root3)\n",
    "            if '.DS_Store' in str(root3):\n",
    "                os.remove(root3) \n",
    "            for root4 in os.listdir(root3):\n",
    "                root4 = os.path.join(root3, root4)\n",
    "                if '.DS_Store' in str(root4):\n",
    "                    os.remove(root4) "
   ]
  }
 ],
 "metadata": {
  "kernelspec": {
   "display_name": "Python 3.8.13 ('ee641')",
   "language": "python",
   "name": "python3"
  },
  "language_info": {
   "codemirror_mode": {
    "name": "ipython",
    "version": 3
   },
   "file_extension": ".py",
   "mimetype": "text/x-python",
   "name": "python",
   "nbconvert_exporter": "python",
   "pygments_lexer": "ipython3",
   "version": "3.8.13"
  },
  "orig_nbformat": 4,
  "vscode": {
   "interpreter": {
    "hash": "4c0369900df99c3522d8011e6f2450545a3abb69754db692ed3545e074f222a6"
   }
  }
 },
 "nbformat": 4,
 "nbformat_minor": 2
}
