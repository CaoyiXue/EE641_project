{
 "cells": [
  {
   "cell_type": "code",
   "execution_count": 1,
   "metadata": {},
   "outputs": [],
   "source": [
    "import seg_models as sm\n",
    "import torch\n",
    "import utils\n",
    "import torchio as tio\n",
    "import torch.nn as nn\n",
    "import torch.optim as optim"
   ]
  },
  {
   "cell_type": "code",
   "execution_count": 2,
   "metadata": {},
   "outputs": [
    {
     "name": "stdout",
     "output_type": "stream",
     "text": [
      "Training on device cpu.\n"
     ]
    }
   ],
   "source": [
    "device = (torch.device('cuda') if torch.cuda.is_available()\n",
    "                  else torch.device('cpu'))\n",
    "print(f\"Training on device {device}.\")"
   ]
  },
  {
   "cell_type": "code",
   "execution_count": 3,
   "metadata": {},
   "outputs": [
    {
     "data": {
      "text/plain": [
       "(3728, 21715)"
      ]
     },
     "execution_count": 3,
     "metadata": {},
     "output_type": "execute_result"
    }
   ],
   "source": [
    "infect_path = \"data/Infection Segmentation Data Transformed/\"\n",
    "infect_train_loader, infect_val_loader, infect_test_loader = utils.get_loader(\n",
    "    target_directory=infect_path, train_bs=64,\n",
    "    val_bs=64, num_works=4)\n",
    "    \n",
    "lung_path = \"data/Lung Segmentation Data Transformed/\"\n",
    "lung_train_loader, lung_val_loader, lung_test_loader = utils.get_loader(\n",
    "    target_directory=lung_path, train_bs=64,\n",
    "    val_bs=64, num_works=4)\n",
    "len(infect_train_loader.dataset), len(lung_train_loader.dataset)"
   ]
  },
  {
   "cell_type": "code",
   "execution_count": 4,
   "metadata": {},
   "outputs": [],
   "source": [
    "infect_Unet_micronet_m0 = sm.Unet(\n",
    "    encoder_name=\"micronet_m0\",       \n",
    "    in_channels=1,                  \n",
    "    classes=2,                      \n",
    ")\n",
    "infect_optimizer = optim.Adam(infect_Unet_micronet_m0.parameters(), lr=0.0001)\n",
    "\n",
    "lung_Unet_micronet_m0 = sm.Unet(\n",
    "    encoder_name=\"micronet_m0\",       \n",
    "    in_channels=1,                  \n",
    "    classes=2,                      \n",
    ")\n",
    "lung_optimizer = optim.Adam(infect_Unet_micronet_m0.parameters(), lr=0.0001)\n",
    "\n",
    "loss_fcn = nn.CrossEntropyLoss()"
   ]
  },
  {
   "cell_type": "code",
   "execution_count": 5,
   "metadata": {},
   "outputs": [
    {
     "name": "stdout",
     "output_type": "stream",
     "text": [
      "Epoch 1 Start:\n",
      "Epoch 1, Batch 0\n",
      "Epoch 1, Batch 10\n",
      "Epoch 1, Batch 20\n",
      "Epoch 1, Batch 30\n",
      "Epoch 1, Batch 40\n"
     ]
    }
   ],
   "source": [
    "utils.training_loop(\n",
    "    infect_Unet_micronet_m0, infect_optimizer,\n",
    "    loss_fcn, infect_train_loader,\n",
    "    infect_val_loader, mask_name='infection mask',\n",
    "    n_epochs=20, device=device, \n",
    "    save_path='trained_models/infect_Unet_micronet_m0.pt')"
   ]
  },
  {
   "cell_type": "code",
   "execution_count": null,
   "metadata": {},
   "outputs": [],
   "source": [
    "utils.test_loop(\n",
    "    infect_Unet_micronet_m0, infect_test_loader,\n",
    "    mask_name='infection mask', device=device)"
   ]
  },
  {
   "cell_type": "code",
   "execution_count": null,
   "metadata": {},
   "outputs": [],
   "source": [
    "utils.training_loop(\n",
    "    lung_Unet_micronet_m0, lung_optimizer,\n",
    "    loss_fcn, infect_train_loader,\n",
    "    infect_val_loader, mask_name='lung mask',\n",
    "    n_epochs=20, device=device, \n",
    "    save_path='trained_models/lung_Unet_micronet_m0.pt')"
   ]
  },
  {
   "cell_type": "code",
   "execution_count": null,
   "metadata": {},
   "outputs": [],
   "source": [
    "utils.test_loop(\n",
    "    lung_Unet_micronet_m0, lung_test_loader,\n",
    "    mask_name='lung mask', device=device)"
   ]
  }
 ],
 "metadata": {
  "kernelspec": {
   "display_name": "Python 3.8.13 ('ee641')",
   "language": "python",
   "name": "python3"
  },
  "language_info": {
   "codemirror_mode": {
    "name": "ipython",
    "version": 3
   },
   "file_extension": ".py",
   "mimetype": "text/x-python",
   "name": "python",
   "nbconvert_exporter": "python",
   "pygments_lexer": "ipython3",
   "version": "3.8.13"
  },
  "orig_nbformat": 4,
  "vscode": {
   "interpreter": {
    "hash": "4c0369900df99c3522d8011e6f2450545a3abb69754db692ed3545e074f222a6"
   }
  }
 },
 "nbformat": 4,
 "nbformat_minor": 2
}
