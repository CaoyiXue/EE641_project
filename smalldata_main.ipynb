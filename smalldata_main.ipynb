{
  "cells": [
    {
      "cell_type": "code",
      "execution_count": null,
      "metadata": {
        "colab": {
          "base_uri": "https://localhost:8080/"
        },
        "id": "8b2aI7lvDgOa",
        "outputId": "2700a00e-4ad0-4da9-a576-dc423ca5e9a6"
      },
      "outputs": [],
      "source": [
        "from google.colab import drive\n",
        "drive.mount('/content/gdrive/', force_remount=True)"
      ]
    },
    {
      "cell_type": "code",
      "execution_count": null,
      "metadata": {
        "colab": {
          "base_uri": "https://localhost:8080/"
        },
        "id": "PKuVJfsqD-wy",
        "outputId": "4269520f-dec1-4ce8-f992-11cea61c549a"
      },
      "outputs": [],
      "source": [
        "import os\n",
        "os.chdir(\"/content/gdrive/MyDrive/Usc/EE641/Project/\")\n",
        "print(\"current working directory is \", os.getcwd())"
      ]
    },
    {
      "cell_type": "code",
      "execution_count": null,
      "metadata": {
        "colab": {
          "base_uri": "https://localhost:8080/"
        },
        "id": "6qQ3bSW5G2CI",
        "outputId": "7a58e9ce-dbd6-40e9-d4bb-cd1270dc16f7"
      },
      "outputs": [],
      "source": [
        "!pip install torchio\n",
        "!pip install yacs"
      ]
    },
    {
      "cell_type": "code",
      "execution_count": 1,
      "metadata": {
        "id": "Jvp3dbCdC15f"
      },
      "outputs": [],
      "source": [
        "import torch\n",
        "from torch.utils.data import Dataset, DataLoader\n",
        "import torchio as tio\n",
        "import torch.nn as nn\n",
        "import torch.optim as optim\n",
        "import torchvision\n",
        "from torchvision import transforms\n",
        "import seg_models as sm\n",
        "import utils\n",
        "from utils import HDF5Dataset, training_loop, test_loop"
      ]
    },
    {
      "cell_type": "code",
      "execution_count": 2,
      "metadata": {
        "colab": {
          "base_uri": "https://localhost:8080/"
        },
        "id": "--FGEWnCC15h",
        "outputId": "9be1cdaa-d0cb-48aa-ce43-d26185ffe6d1"
      },
      "outputs": [
        {
          "name": "stdout",
          "output_type": "stream",
          "text": [
            "Training on device cpu.\n"
          ]
        }
      ],
      "source": [
        "device = (torch.device('cuda') if torch.cuda.is_available()\n",
        "                  else torch.device('cpu'))\n",
        "print(f\"Training on device {device}.\")"
      ]
    },
    {
      "cell_type": "code",
      "execution_count": 3,
      "metadata": {},
      "outputs": [],
      "source": [
        "train_transforms = transforms.Compose([transforms.ToTensor(),\n",
        "                                       transforms.RandomHorizontalFlip(p=0.5),\n",
        "                                       transforms.RandomRotation((0, 5))])\n",
        "\n",
        "test_transforms = transforms.Compose([transforms.ToTensor()])"
      ]
    },
    {
      "cell_type": "code",
      "execution_count": 4,
      "metadata": {},
      "outputs": [],
      "source": [
        "infect_path = \"HDF5SmallData/small_infect_data.hdf5\"\n",
        "infect_train_dataset = HDF5Dataset(infect_path, 'train', transform=train_transforms)\n",
        "infect_val_dataset = HDF5Dataset(infect_path, 'val', transform=test_transforms)\n",
        "infect_test_dataset = HDF5Dataset(infect_path, 'test', transform=test_transforms)"
      ]
    },
    {
      "cell_type": "code",
      "execution_count": 5,
      "metadata": {},
      "outputs": [],
      "source": [
        "n_epochs = 2\n",
        "batch_size = 2\n",
        "stop = 5\n",
        "num_works = 2\n",
        "\n",
        "infect_Unet_micronet_m0 = sm.Unet(\n",
        "    encoder_name=\"micronet_m0\",       \n",
        "    in_channels=1,                  \n",
        "    classes=2,                      \n",
        ").to(device)\n",
        "infect_optimizer = optim.Adam(infect_Unet_micronet_m0.parameters(), lr=0.0001)\n",
        "loss_fcn = nn.CrossEntropyLoss()"
      ]
    },
    {
      "cell_type": "code",
      "execution_count": 6,
      "metadata": {},
      "outputs": [],
      "source": [
        "infect_train_loader = DataLoader(infect_train_dataset, batch_size=batch_size, \n",
        "shuffle=True, num_workers=num_works)\n",
        "infect_val_loader = DataLoader(infect_val_dataset, batch_size=batch_size, \n",
        "shuffle=True, num_workers=num_works)"
      ]
    },
    {
      "cell_type": "code",
      "execution_count": 7,
      "metadata": {},
      "outputs": [
        {
          "name": "stdout",
          "output_type": "stream",
          "text": [
            "Epoch 1 Training Start:\n",
            "Epoch 1, Batch 0\n",
            "Epoch 1, Batch 10\n",
            "Epoch 1, train loss: 0.376\n",
            "Duration: 0.381 minutes\n",
            "Epoch 1 Validation Start:\n",
            "Epoch 1, Batch 0\n",
            "Epoch 1, val loss: 0.180\n",
            "Detect Improvement, Save Model\n",
            "Epoch 2 Training Start:\n",
            "Epoch 2, Batch 0\n",
            "Epoch 2, Batch 10\n",
            "Epoch 2, train loss: 0.317\n",
            "Duration: 0.380 minutes\n",
            "Epoch 2 Validation Start:\n",
            "Epoch 2, Batch 0\n",
            "Epoch 2, val loss: 0.176\n",
            "Detect Improvement, Save Model\n"
          ]
        }
      ],
      "source": [
        "training_loop(\n",
        "    infect_Unet_micronet_m0, infect_optimizer,\n",
        "    loss_fcn, infect_train_loader,\n",
        "    infect_val_loader, mask_name='infection mask',\n",
        "    n_epochs=n_epochs, device=device, \n",
        "    save_path='trained_models/infect_Unet_micronet_m0.pt',\n",
        "    stop = stop)"
      ]
    },
    {
      "cell_type": "code",
      "execution_count": 7,
      "metadata": {},
      "outputs": [],
      "source": [
        "infect_test_loader = DataLoader(infect_test_dataset, batch_size=1, num_workers=num_works)"
      ]
    },
    {
      "cell_type": "code",
      "execution_count": 20,
      "metadata": {},
      "outputs": [
        {
          "data": {
            "text/plain": [
              "0"
            ]
          },
          "execution_count": 20,
          "metadata": {},
          "output_type": "execute_result"
        }
      ],
      "source": [
        "infect_test_loader.dataset[0][2]"
      ]
    },
    {
      "cell_type": "code",
      "execution_count": 8,
      "metadata": {},
      "outputs": [
        {
          "name": "stdout",
          "output_type": "stream",
          "text": [
            "patient 0\n",
            "accuracy mean: 3953239.250, accuracy standard deviation: 9683419.000\n",
            "IoU mean: 0.000, IoU standard deviation: 0.000\n",
            "DSC mean: 211626.797, DSC standard deviation: 518377.656\n"
          ]
        },
        {
          "data": {
            "text/plain": [
              "(3953239.25,\n",
              " 9683419.0,\n",
              " 1.1871539617386587e-31,\n",
              " 2.9079214681432633e-31,\n",
              " 211626.796875,\n",
              " 518377.65625)"
            ]
          },
          "execution_count": 8,
          "metadata": {},
          "output_type": "execute_result"
        }
      ],
      "source": [
        "infect_Unet_micronet_m0 = torch.load('trained_models/infect_Unet_micronet_m0.pt')\n",
        "test_loop(infect_Unet_micronet_m0, infect_test_loader, \n",
        "mask_name='infection mask', device=device)"
      ]
    },
    {
      "cell_type": "code",
      "execution_count": 6,
      "metadata": {},
      "outputs": [],
      "source": [
        "lung_path = \"HDF5Data/lung_data.hdf5\"\n",
        "lung_train_dataset = HDF5Dataset(lung_path, 'train', transform=train_transforms)\n",
        "lung_val_dataset = HDF5Dataset(lung_path, 'val', transform=test_transforms)\n",
        "lung_test_dataset = HDF5Dataset(lung_path, 'test', transform=test_transforms)"
      ]
    }
  ],
  "metadata": {
    "accelerator": "GPU",
    "colab": {
      "machine_shape": "hm",
      "provenance": []
    },
    "gpuClass": "standard",
    "kernelspec": {
      "display_name": "Python 3.8.13 ('ee641')",
      "language": "python",
      "name": "python3"
    },
    "language_info": {
      "codemirror_mode": {
        "name": "ipython",
        "version": 3
      },
      "file_extension": ".py",
      "mimetype": "text/x-python",
      "name": "python",
      "nbconvert_exporter": "python",
      "pygments_lexer": "ipython3",
      "version": "3.8.13"
    },
    "orig_nbformat": 4,
    "vscode": {
      "interpreter": {
        "hash": "4c0369900df99c3522d8011e6f2450545a3abb69754db692ed3545e074f222a6"
      }
    }
  },
  "nbformat": 4,
  "nbformat_minor": 0
}
